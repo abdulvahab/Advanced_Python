{
 "cells": [
  {
   "cell_type": "code",
   "execution_count": null,
   "metadata": {},
   "outputs": [],
   "source": [
    "from dataclasses import dataclass\n",
    "@dataclass(order=True)\n",
    "class Color:\n",
    "    red : int \n",
    "    green : int\n",
    "    blue : int\n",
    "c1 = Color(255,255,0)\n",
    "c2 = Color(255,256,0)\n",
    "print(c1 >= c2)"
   ]
  },
  {
   "cell_type": "code",
   "execution_count": null,
   "metadata": {},
   "outputs": [],
   "source": [
    "from dataclasses_json.api import DataClassJsonMixin\n",
    "from typing import List\n",
    "@dataclass(frozen=True)\n",
    "class SubscribeRequest(DataClassJsonMixin):\n",
    "    events: List[str]\n",
    "consumer = SubscribeRequest([1,2,3,4])\n",
    "print(consumer.to_json())\n",
    "print(type(consumer.events[0]))\n",
    "consumer.events.append(6)\n",
    "print(consumer)\n",
    "# consumer.events = [\"info\", \"warning\", \"error\"]"
   ]
  },
  {
   "cell_type": "code",
   "execution_count": null,
   "metadata": {},
   "outputs": [],
   "source": [
    "from enum import Enum, unique, auto\n",
    "\n",
    "class Fruit(Enum):\n",
    "    APPLE = 1\n",
    "    BANANA = 2\n",
    "    ORANGE = 3\n",
    "    PEAR = 4\n",
    "    TOMATO = 5\n",
    "    PLUM = auto()\n",
    "    \n",
    "def main():\n",
    "    print(Fruit)\n",
    "\n",
    "main()"
   ]
  },
  {
   "cell_type": "code",
   "execution_count": null,
   "metadata": {},
   "outputs": [],
   "source": [
    "class Color:\n",
    "    def __init__(self, red, green, blue):\n",
    "        self.red = red\n",
    "        self.green = green\n",
    "        self.blue = blue\n",
    "        \n",
    "    def __getattr__(self, attr):\n",
    "        if attr == \"rgbcode\":\n",
    "            return (self.red, self.green, self.blue)\n",
    "        elif attr == \"hexcode\":\n",
    "            return \"#{0:02x}{1:02x}{2:02x}\".format(self.red, self.green, self.blue)\n",
    "        else:\n",
    "            raise AttributeError\n",
    "    \n",
    "    def __setattr__(self, attr, val):\n",
    "        if attr == \"rgbcode\":\n",
    "            self.red = val[0]\n",
    "            self.green = val[1]\n",
    "            self.blue = val[2]\n",
    "        else:\n",
    "            super().__setattr__(attr, val)\n",
    "        \n",
    "        \n",
    "def main():\n",
    "    color = Color(255, 255, 0)\n",
    "    print(color.rgbcode)\n",
    "    print(color.hexcode)\n",
    "    color.rgbcode = (0, 255, 255)\n",
    "    print(color.rgbcode)\n",
    "    print(color.hexcode)\n",
    "main()"
   ]
  },
  {
   "cell_type": "code",
   "execution_count": null,
   "metadata": {},
   "outputs": [],
   "source": [
    "from abc import ABC, abstractmethod\n",
    "\n",
    "class BaseClass(ABC):\n",
    "    \n",
    "    @classmethod\n",
    "    @abstractmethod\n",
    "    def calculate_area(self):\n",
    "        raise NotImplementedError\n",
    "        \n",
    "        \n",
    "class ConcreteClass(BaseClass):\n",
    "    \n",
    "    def calculate_area(self):\n",
    "        return \"Implemented\"\n",
    "\n",
    "\n",
    "ConcreteClass()"
   ]
  },
  {
   "cell_type": "code",
   "execution_count": null,
   "metadata": {},
   "outputs": [],
   "source": []
  }
 ],
 "metadata": {
  "kernelspec": {
   "display_name": "Python 3",
   "language": "python",
   "name": "python3"
  },
  "language_info": {
   "codemirror_mode": {
    "name": "ipython",
    "version": 3
   },
   "file_extension": ".py",
   "mimetype": "text/x-python",
   "name": "python",
   "nbconvert_exporter": "python",
   "pygments_lexer": "ipython3",
   "version": "3.8.5"
  }
 },
 "nbformat": 4,
 "nbformat_minor": 4
}
