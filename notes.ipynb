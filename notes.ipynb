{
 "cells": [
  {
   "cell_type": "markdown",
   "metadata": {},
   "source": [
    "## itertools"
   ]
  },
  {
   "cell_type": "code",
   "execution_count": 1,
   "metadata": {},
   "outputs": [
    {
     "data": {
      "text/plain": [
       "[1, 1, 2, 2, 3, 3, 4, 4, 5, 5]"
      ]
     },
     "execution_count": 1,
     "metadata": {},
     "output_type": "execute_result"
    }
   ],
   "source": [
    "from itertools import chain, accumulate\n",
    "name_letters = chain(\"Abdulvahab Kharadi\")\n",
    "list(name_letters)\n",
    "number = [1,2,3,4,5,6,7,8,9,10]\n",
    "def sub(a,b):\n",
    "    return abs(a-b)\n",
    "difference = accumulate(number, sub)\n",
    "list(difference)"
   ]
  },
  {
   "cell_type": "markdown",
   "metadata": {},
   "source": [
    "## Collections"
   ]
  },
  {
   "cell_type": "code",
   "execution_count": 23,
   "metadata": {},
   "outputs": [
    {
     "name": "stdout",
     "output_type": "stream",
     "text": [
      "-2\n"
     ]
    },
    {
     "data": {
      "text/plain": [
       "True"
      ]
     },
     "execution_count": 23,
     "metadata": {},
     "output_type": "execute_result"
    }
   ],
   "source": [
    "from collections import namedtuple\n",
    "Point = namedtuple(\"Point\", [\"x\", \"y\"])\n",
    "p1 = Point(2,3)\n",
    "p2 = Point(2,5)\n",
    "print(p1.y - p2.y)\n",
    "p1 = p1._replace(y=5)\n",
    "p1 == p2\n"
   ]
  },
  {
   "cell_type": "code",
   "execution_count": 20,
   "metadata": {},
   "outputs": [
    {
     "data": {
      "text/plain": [
       "defaultdict(list, {'app': ['learn']})"
      ]
     },
     "execution_count": 20,
     "metadata": {},
     "output_type": "execute_result"
    }
   ],
   "source": [
    "from collections import defaultdict\n",
    "d1 = defaultdict(list)\n",
    "d1[\"app\"].append(\"learn\")\n",
    "d1"
   ]
  },
  {
   "cell_type": "code",
   "execution_count": 28,
   "metadata": {},
   "outputs": [
    {
     "data": {
      "text/plain": [
       "dict_keys(['apple', 'mango', 'orange'])"
      ]
     },
     "execution_count": 28,
     "metadata": {},
     "output_type": "execute_result"
    }
   ],
   "source": [
    "from collections import Counter\n",
    "fruits = [\"apple\", \"mango\", \"orange\", \"apple\", \"orange\", \"apple\", \"mango\", \"apple\"]\n",
    "c1 = Counter(fruits)\n",
    "c1.keys()\n",
    "# update method\n",
    "\n",
    "#substract method"
   ]
  },
  {
   "cell_type": "code",
   "execution_count": 40,
   "metadata": {},
   "outputs": [
    {
     "data": {
      "text/plain": [
       "'Dictionary that remembers insertion order'"
      ]
     },
     "execution_count": 40,
     "metadata": {},
     "output_type": "execute_result"
    }
   ],
   "source": [
    "from collections import OrderedDict\n",
    "d1 = {\"a\":1, \"b\":2, \"c\":3, \"d\":4}\n",
    "d2 = {\"d\":4, \"c\":3, \"b\":2, \"a\":1}\n",
    "OrderedDict.__doc__\n"
   ]
  },
  {
   "cell_type": "code",
   "execution_count": 54,
   "metadata": {},
   "outputs": [
    {
     "data": {
      "text/plain": [
       "deque([26,\n",
       "       1,\n",
       "       'b',\n",
       "       'c',\n",
       "       'd',\n",
       "       'e',\n",
       "       'f',\n",
       "       'g',\n",
       "       'h',\n",
       "       'i',\n",
       "       'j',\n",
       "       'k',\n",
       "       'l',\n",
       "       'm',\n",
       "       'n',\n",
       "       'o',\n",
       "       'p',\n",
       "       'q',\n",
       "       'r',\n",
       "       's',\n",
       "       't',\n",
       "       'u',\n",
       "       'v',\n",
       "       'w',\n",
       "       'x',\n",
       "       'y'])"
      ]
     },
     "execution_count": 54,
     "metadata": {},
     "output_type": "execute_result"
    }
   ],
   "source": [
    "from collections import deque\n",
    "import string\n",
    "lower_cases = deque(string.ascii_lowercase) \n",
    "lower_cases.pop()\n",
    "lower_cases.popleft()\n",
    "lower_cases.append(26)\n",
    "lower_cases.appendleft(1)\n",
    "lower_cases.rotate(-1)\n",
    "lower_cases.rotate(2)\n",
    "lower_cases"
   ]
  },
  {
   "cell_type": "code",
   "execution_count": null,
   "metadata": {},
   "outputs": [],
   "source": []
  }
 ],
 "metadata": {
  "kernelspec": {
   "display_name": "Python 3",
   "language": "python",
   "name": "python3"
  },
  "language_info": {
   "codemirror_mode": {
    "name": "ipython",
    "version": 3
   },
   "file_extension": ".py",
   "mimetype": "text/x-python",
   "name": "python",
   "nbconvert_exporter": "python",
   "pygments_lexer": "ipython3",
   "version": "3.8.5"
  }
 },
 "nbformat": 4,
 "nbformat_minor": 4
}
