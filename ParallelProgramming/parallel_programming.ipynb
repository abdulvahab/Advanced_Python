{
 "cells": [
  {
   "cell_type": "code",
   "execution_count": null,
   "metadata": {},
   "outputs": [],
   "source": [
    "#Check how many CPUs your system has got\n",
    "import multiprocessing as mp\n",
    "mp.cpu_count()"
   ]
  },
  {
   "cell_type": "code",
   "execution_count": null,
   "metadata": {},
   "outputs": [],
   "source": [
    "#!/usr/bin/env python3\n",
    "\"\"\" Threads that waste CPU cycles \"\"\"\n",
    "\n",
    "import os\n",
    "import threading\n",
    "\n",
    "# a simple function that wastes CPU cycles forever\n",
    "def cpu_waster():\n",
    "    while True:\n",
    "        pass\n",
    "\n",
    "# display information about this process\n",
    "print('\\n  Process ID: ', os.getpid())\n",
    "print('Thread Count: ', threading.active_count())\n",
    "for thread in threading.enumerate():\n",
    "    print(thread)\n",
    "\n",
    "print('\\nStarting 12 CPU Wasters...')\n",
    "for i in range(12):\n",
    "    threading.Thread(target=cpu_waster).start()\n",
    "\n",
    "# display information about this process\n",
    "print('\\n  Process ID: ', os.getpid())\n",
    "print('Thread Count: ', threading.active_count())\n",
    "for thread in threading.enumerate():\n",
    "    print(thread)\n"
   ]
  },
  {
   "cell_type": "code",
   "execution_count": null,
   "metadata": {},
   "outputs": [],
   "source": [
    "#!/usr/bin/env python3\n",
    "\"\"\" Threads that waste CPU cycles \"\"\"\n",
    "\n",
    "import os\n",
    "import threading\n",
    "import multiprocessing as mp\n",
    "\n",
    "# a simple function that wastes CPU cycles forever\n",
    "def cpu_waster():\n",
    "    while True:\n",
    "        pass\n",
    "\n",
    "print('Hi! My name is', __name__)\n",
    "if __name__ == '__main__':\n",
    "    # display information about this process\n",
    "    print('\\n  Process ID: ', os.getpid())\n",
    "    print('Thread Count: ', threading.active_count())\n",
    "    for thread in threading.enumerate():\n",
    "        print(thread)\n",
    "\n",
    "    print('\\nStarting 12 CPU Wasters...')\n",
    "    for i in range(12):\n",
    "        mp.Process(target=cpu_waster).start()\n",
    "        print('\\n  Process ID: ', os.getpid())\n",
    "    # display information about this process\n",
    "    print('\\n  Process ID: ', os.getpid())\n",
    "    print('Thread Count: ', threading.active_count())\n",
    "    for thread in threading.enumerate():\n",
    "        print(thread)"
   ]
  },
  {
   "cell_type": "code",
   "execution_count": 7,
   "metadata": {},
   "outputs": [
    {
     "ename": "RuntimeError",
     "evalue": "'run_cell_async' needs a real async loop",
     "output_type": "error",
     "traceback": [
      "\u001b[0;31m---------------------------------------------------------------------------\u001b[0m",
      "\u001b[0;31mRuntimeError\u001b[0m                              Traceback (most recent call last)",
      "\u001b[0;32m~/opt/anaconda3/lib/python3.8/site-packages/IPython/core/async_helpers.py\u001b[0m in \u001b[0;36m_pseudo_sync_runner\u001b[0;34m(coro)\u001b[0m\n\u001b[1;32m     71\u001b[0m     \u001b[0;32melse\u001b[0m\u001b[0;34m:\u001b[0m\u001b[0;34m\u001b[0m\u001b[0;34m\u001b[0m\u001b[0m\n\u001b[1;32m     72\u001b[0m         \u001b[0;31m# TODO: do not raise but return an execution result with the right info.\u001b[0m\u001b[0;34m\u001b[0m\u001b[0;34m\u001b[0m\u001b[0;34m\u001b[0m\u001b[0m\n\u001b[0;32m---> 73\u001b[0;31m         raise RuntimeError(\n\u001b[0m\u001b[1;32m     74\u001b[0m             \u001b[0;34m\"{coro_name!r} needs a real async loop\"\u001b[0m\u001b[0;34m.\u001b[0m\u001b[0mformat\u001b[0m\u001b[0;34m(\u001b[0m\u001b[0mcoro_name\u001b[0m\u001b[0;34m=\u001b[0m\u001b[0mcoro\u001b[0m\u001b[0;34m.\u001b[0m\u001b[0m__name__\u001b[0m\u001b[0;34m)\u001b[0m\u001b[0;34m\u001b[0m\u001b[0;34m\u001b[0m\u001b[0m\n\u001b[1;32m     75\u001b[0m         )\n",
      "\u001b[0;31mRuntimeError\u001b[0m: 'run_cell_async' needs a real async loop"
     ]
    }
   ],
   "source": [
    "from aiohttp import web\n",
    "import json\n",
    "import asyncio\n",
    "loop = asyncio.get_event_loop()\n",
    "\n",
    "async def home(request):\n",
    "    message = json.dumps({\"message\":\"Hello world\"})\n",
    "    return web.Response(text=message)\n",
    "    \n",
    "app = web.Application()\n",
    "app.add_routes(\n",
    "    [\n",
    "        web.get(\"/\", home),\n",
    "#             web.post(\"/events/subscriptions\", subscribe_handler_decorated),\n",
    "#             web.get(\"/events/subscriptions/channels/{uuid}\", stream_channel_decorated),\n",
    "#             web.get(\"/predictions\", predictions_handler_decorated),\n",
    "#             web.get(\"/test\", test_prediction_decorated),\n",
    "    ]\n",
    ")\n",
    "\n",
    "app_runner = web.AppRunner(app)\n",
    "await app_runner.setup()\n",
    "site = web.TCPSite(app_runner, host='localhost', port=1786)\n",
    "await site.start()\n",
    "\n",
    "return app_runner"
   ]
  },
  {
   "cell_type": "code",
   "execution_count": null,
   "metadata": {},
   "outputs": [],
   "source": [
    "!mv /Users/akharadi/Desktop/"
   ]
  },
  {
   "cell_type": "code",
   "execution_count": null,
   "metadata": {},
   "outputs": [],
   "source": []
  }
 ],
 "metadata": {
  "kernelspec": {
   "display_name": "Python 3",
   "language": "python",
   "name": "python3"
  },
  "language_info": {
   "codemirror_mode": {
    "name": "ipython",
    "version": 3
   },
   "file_extension": ".py",
   "mimetype": "text/x-python",
   "name": "python",
   "nbconvert_exporter": "python",
   "pygments_lexer": "ipython3",
   "version": "3.8.5"
  }
 },
 "nbformat": 4,
 "nbformat_minor": 4
}
