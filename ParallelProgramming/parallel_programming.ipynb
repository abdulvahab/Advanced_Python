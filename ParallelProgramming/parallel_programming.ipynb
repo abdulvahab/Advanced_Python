{
 "cells": [
  {
   "cell_type": "code",
   "execution_count": null,
   "metadata": {},
   "outputs": [],
   "source": [
    "#Check how many CPUs your system has got\n",
    "import multiprocessing as mp\n",
    "mp.cpu_count()"
   ]
  },
  {
   "cell_type": "code",
   "execution_count": null,
   "metadata": {},
   "outputs": [],
   "source": [
    "#!/usr/bin/env python3\n",
    "\"\"\" Threads that waste CPU cycles \"\"\"\n",
    "\n",
    "import os\n",
    "import threading\n",
    "\n",
    "# a simple function that wastes CPU cycles forever\n",
    "def cpu_waster():\n",
    "    while True:\n",
    "        pass\n",
    "\n",
    "# display information about this process\n",
    "print('\\n  Process ID: ', os.getpid())\n",
    "print('Thread Count: ', threading.active_count())\n",
    "for thread in threading.enumerate():\n",
    "    print(thread)\n",
    "\n",
    "print('\\nStarting 12 CPU Wasters...')\n",
    "for i in range(12):\n",
    "    threading.Thread(target=cpu_waster).start()\n",
    "\n",
    "# display information about this process\n",
    "print('\\n  Process ID: ', os.getpid())\n",
    "print('Thread Count: ', threading.active_count())\n",
    "for thread in threading.enumerate():\n",
    "    print(thread)\n"
   ]
  },
  {
   "cell_type": "code",
   "execution_count": null,
   "metadata": {},
   "outputs": [],
   "source": [
    "#!/usr/bin/env python3\n",
    "\"\"\" Threads that waste CPU cycles \"\"\"\n",
    "\n",
    "import os\n",
    "import threading\n",
    "import multiprocessing as mp\n",
    "\n",
    "# a simple function that wastes CPU cycles forever\n",
    "def cpu_waster():\n",
    "    while True:\n",
    "        pass\n",
    "\n",
    "print('Hi! My name is', __name__)\n",
    "if __name__ == '__main__':\n",
    "    # display information about this process\n",
    "    print('\\n  Process ID: ', os.getpid())\n",
    "    print('Thread Count: ', threading.active_count())\n",
    "    for thread in threading.enumerate():\n",
    "        print(thread)\n",
    "\n",
    "    print('\\nStarting 12 CPU Wasters...')\n",
    "    for i in range(12):\n",
    "        mp.Process(target=cpu_waster).start()\n",
    "        print('\\n  Process ID: ', os.getpid())\n",
    "    # display information about this process\n",
    "    print('\\n  Process ID: ', os.getpid())\n",
    "    print('Thread Count: ', threading.active_count())\n",
    "    for thread in threading.enumerate():\n",
    "        print(thread)"
   ]
  },
  {
   "cell_type": "code",
   "execution_count": null,
   "metadata": {},
   "outputs": [],
   "source": []
  }
 ],
 "metadata": {
  "kernelspec": {
   "display_name": "Python 3",
   "language": "python",
   "name": "python3"
  },
  "language_info": {
   "codemirror_mode": {
    "name": "ipython",
    "version": 3
   },
   "file_extension": ".py",
   "mimetype": "text/x-python",
   "name": "python",
   "nbconvert_exporter": "python",
   "pygments_lexer": "ipython3",
   "version": "3.8.5"
  }
 },
 "nbformat": 4,
 "nbformat_minor": 4
}
