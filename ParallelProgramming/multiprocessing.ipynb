{
 "cells": [
  {
   "cell_type": "code",
   "execution_count": null,
   "metadata": {},
   "outputs": [],
   "source": [
    "\n",
    "# single process\n",
    "def mysum(numbers):\n",
    "    total=0\n",
    "    for num in numbers:\n",
    "        total += num\n",
    "    return total\n",
    "if __name__==\"__main__\":\n",
    "    for i in range(10):\n",
    "        print(i, mysum(range(i)))\n"
   ]
  },
  {
   "cell_type": "code",
   "execution_count": null,
   "metadata": {},
   "outputs": [],
   "source": [
    "#multiprocess\n",
    "import multiprocessing as mp\n",
    "q=mp.Queue() \n",
    "def mysum(i, numbers):\n",
    "    total = 0\n",
    "    for num in numbers:\n",
    "        total += num\n",
    "    q.put((i, total))\n",
    "if __name__==\"__main__\":\n",
    "    processes = []\n",
    "    for i in range(10):\n",
    "        p=mp.Process(target=mysum, args=(i, range(i)))\n",
    "        processes.append(p)\n",
    "        p.start()\n",
    "    for process in processes:\n",
    "        p.join()\n",
    "    i = 0\n",
    "    while i < 10:\n",
    "        print(q.get())\n",
    "        i += 1"
   ]
  },
  {
   "cell_type": "code",
   "execution_count": null,
   "metadata": {},
   "outputs": [],
   "source": []
  }
 ],
 "metadata": {
  "kernelspec": {
   "display_name": "Python 3",
   "language": "python",
   "name": "python3"
  },
  "language_info": {
   "codemirror_mode": {
    "name": "ipython",
    "version": 3
   },
   "file_extension": ".py",
   "mimetype": "text/x-python",
   "name": "python",
   "nbconvert_exporter": "python",
   "pygments_lexer": "ipython3",
   "version": "3.8.5"
  }
 },
 "nbformat": 4,
 "nbformat_minor": 4
}
