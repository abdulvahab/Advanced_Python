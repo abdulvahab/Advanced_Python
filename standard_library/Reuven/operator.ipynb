{
 "cells": [
  {
   "cell_type": "markdown",
   "metadata": {},
   "source": [
    "### Operator.itemgetter()"
   ]
  },
  {
   "cell_type": "markdown",
   "metadata": {},
   "source": [
    "The Python standard library is full of gems. (I know, I know -- the Ruby language also has lots of gems.  Ha, ha.) One of the modules I've discovered, and started to use, over the last year is the \"operator\" module, which comes in handy in all sorts of places.\n",
    "\n",
    "To understand how the \"operator\" module can help, remember that when we use an operator in Python, such as +, %, or even **, the operator is turned into a method call. In other words, when we say\n",
    "```\n",
    "2 + 3\n",
    "we're really invoking\n",
    "    int.__add__(2, 3)\n",
    "```\n",
    "What does this have to do with us? Well, let's assume that we want to create a simple calculator program using prefix notation. That is, if the user enters\n",
    "    + 2 2\n",
    "\n",
    "then we want to add two numbers. The most natural way to do this, in my opinion, is with a \"dispatch table\" -- that is, a table containing functions, and we can choose the best function from that table based on the user's input.  For example, we can imagine the following:\n",
    "```   \n",
    "def add(x,y):\n",
    "    return x + y\n",
    "\n",
    "def sub(x,y):\n",
    "    return x - y\n",
    "\n",
    "ops = {'+': add,\n",
    "      '-':sub}\n",
    "```     \n",
    "This will definitely work! But it's kind of ridiculous that we need to define our own functions for adding and subtracting.\n",
    "\n",
    "There are other options, of course. One of them is to use \"lambda\", which creates an anonymous function:\n",
    "```\n",
    "    ops = {'+': lambda x,y: x+y,\n",
    "           '-':  lambda x,y: x-y}\n",
    "```\n",
    "But in many cases, using \"lambda\" here is overkill. I mean, I love lambda -- but a huge number of Python developers don't know what it does, and those who do think that it's some weird holdover from other languages that Python doesn't need.\n",
    "\n",
    "The thing is, there's something to that -- because an easier, and more Pythonic, way to do what I did above is to use the \"operator\" module. It implements all of the operators that we know and use every day, but as functions. Thus, instead of the above implementations, I can simply say:\n",
    "```\n",
    "import operator\n",
    "ops = {'+', operator.add,\n",
    "       '-', operator.sub}\n",
    "```\n",
    "But that's just the start of what the \"operator\" module provides. Perhaps the most interesting ones are \"itemgetter\" and \"attrgetter\" which make it easy to do certain kinds of operations.\n",
    "\n",
    "Consider, for example, if I have the following list of dicts:\n",
    "```\n",
    "presidents = [{'first':'George', 'last':'Washington', 'year':1788},\n",
    "              {'first':'John', 'last':'Adams', 'year':1796},\n",
    "             {'first':'Thomas', 'last':'Jefferson', 'year':1800},\n",
    "             {'first':'James', 'last':'Madison', 'year':1808}]\n",
    "```\n",
    "If can easily iterate over this list and print each dict nicely:\n",
    "```\n",
    "for one_item in presidents:\n",
    "    print(\"{first} {last}, started in {year}\".format(**one_item))\n",
    "```\n",
    "(Note that here, I'm taking advantage of the fact that \"format\" takes **kwargs, and that I can turn a dictionary into kwargs with ** before its name during the function invocation.)\n",
    "\n",
    "What if I want to sort this list of dicts by last name?  Now we're in a similar situation to what I had above -- I want to retrieve a particular element (\"last\") from each dict.  I could write a function, or I could use \"lambda\".  Or I could use operator.itemgetter, which does exactly this:\n",
    "```\n",
    "presidents.sort(key=operator.itemgetter('last'))\n",
    "for one_item in presidents:\n",
    "    print(\"{first} {last}, started in {year}\".format(**one_item))\n",
    "```\n",
    "Note that operator.itemgetter is a function that returns a function. Which means that we use operator.itemgetter whenever we want to get a function back.  It even takes a variable number of arguments, which means that we can sort by more than one field -- for example, \"last\" and then \"first\" -- if we want.\n",
    "\n",
    "Let's say that I want to allow my users to choose the field by which we will sort the presidents. I could do it as follows:\n",
    "    sort_by = input(\"Enter sort key\")\n",
    "```\n",
    "presidents.sort(key=operator.itemgetter(sort_by))\n",
    "for one_item in presidents:\n",
    "    print(\"{first} {last}, started in {year}\".format(**one_item))\n",
    "```\n",
    "\n"
   ]
  },
  {
   "cell_type": "markdown",
   "metadata": {},
   "source": [
    "### operator.attrgetter()"
   ]
  },
  {
   "cell_type": "markdown",
   "metadata": {},
   "source": [
    "What about operator.attrgetter?  That's useful if we want to get the same attribute from a variety of objects. For example, let's say that I have a few classes, and I want to know what each of them inherits from. In Python, inheritance is defined by the \"__bases__\" attribute, which is a tuple. I can thus say:\n",
    "    get_base = operator.attrgetter('__bases__')\n",
    "    get_base(str)\n",
    "\n",
    "I can even do it to a few classes:\n",
    "    class Foo(object):\n",
    "        pass\n",
    "```\n",
    "class Bar(Foo):\n",
    "    pass\n",
    "\n",
    "for one_class in [int, str, Foo, Bar]:\n",
    "    print(one_class.__name__, get_base(one_class))\n",
    "```\n",
    "\n",
    "Here's a way to get the versions of some modules in Python:\n",
    "\n",
    "```    \n",
    "get_version = operator.attrgetter('__version__')\n",
    "for modname in sys.modules:\n",
    "    try:\n",
    "        print(modname, get_version(sys.modules[modname]))\n",
    "    except AttributeError:\n",
    "        pass\n",
    "```   \n",
    "Note that there isn't much of a standard here; some modules use \"__version__\", while others use \"version\" and still others use \"VERSION\".\n",
    "\n",
    "I've found myself using \"itemgetter\" and \"attrgetter\" in a growing number of my Python programs. Is it just me, or do you also use these?  Reply, and let me know!\n",
    "\n"
   ]
  }
 ],
 "metadata": {
  "kernelspec": {
   "display_name": "Python 3",
   "language": "python",
   "name": "python3"
  },
  "language_info": {
   "codemirror_mode": {
    "name": "ipython",
    "version": 3
   },
   "file_extension": ".py",
   "mimetype": "text/x-python",
   "name": "python",
   "nbconvert_exporter": "python",
   "pygments_lexer": "ipython3",
   "version": "3.8.5"
  }
 },
 "nbformat": 4,
 "nbformat_minor": 4
}
