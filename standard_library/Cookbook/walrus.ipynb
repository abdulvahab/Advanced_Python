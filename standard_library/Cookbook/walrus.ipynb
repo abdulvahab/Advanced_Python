{
 "cells": [
  {
   "cell_type": "code",
   "execution_count": 3,
   "metadata": {},
   "outputs": [
    {
     "name": "stdout",
     "output_type": "stream",
     "text": [
      "you have provided an empty list\n"
     ]
    }
   ],
   "source": [
    "a = [1, 2, 3, 4] \n",
    "a = []\n",
    "if (n := len(a)) > 3: \n",
    "    print(f\"List is too long ({n} elements, expected <= 3)\")\n",
    "else:\n",
    "    print(\"you have provided an empty list\")"
   ]
  },
  {
   "cell_type": "code",
   "execution_count": 4,
   "metadata": {},
   "outputs": [
    {
     "name": "stdout",
     "output_type": "stream",
     "text": [
      "With Python 3.8 Walrus Operator:\n",
      "Found name: \"Abdul\"\n",
      "Found name: \"Sam\"\n",
      "Found name: \"Mike\"\n",
      "Found name: \"Jane\"\n",
      "Without Walrus operator:\n",
      "Found name: \"Abdul\"\n",
      "Found name: \"Sam\"\n",
      "Found name: \"Mike\"\n",
      "Found name: \"Jane\"\n"
     ]
    }
   ],
   "source": [
    "sample_data = [ \n",
    "    {\"userId\": 1,  \"name\": \"Abdul\", \"completed\": False}, \n",
    "    {\"userId\": 1, \"name\": \"Sam\", \"completed\": False}, \n",
    "    {\"userId\": 1,  \"name\": \"Mike\", \"completed\": False}, \n",
    "    {\"userId\": 1,  \"name\": \"Jane\", \"completed\": True} \n",
    "] \n",
    "  \n",
    "print(\"With Python 3.8 Walrus Operator:\")  \n",
    "for entry in sample_data:  \n",
    "    if name := entry.get(\"name\"): \n",
    "        print(f'Found name: \"{name}\"') \n",
    "  \n",
    "print(\"Without Walrus operator:\") \n",
    "for entry in sample_data: \n",
    "    name = entry.get(\"name\") \n",
    "    if name: \n",
    "        print(f'Found name: \"{name}\"') "
   ]
  },
  {
   "cell_type": "code",
   "execution_count": 5,
   "metadata": {},
   "outputs": [
    {
     "name": "stdout",
     "output_type": "stream",
     "text": [
      "Total: 55\n"
     ]
    }
   ],
   "source": [
    "total = 0\n",
    "values = [1,2,3,4,5,6,7,8,9,10]\n",
    "partial_sums = [total := total + v for v in values]\n",
    "print(\"Total:\", total)"
   ]
  },
  {
   "cell_type": "code",
   "execution_count": 34,
   "metadata": {},
   "outputs": [
    {
     "name": "stdout",
     "output_type": "stream",
     "text": [
      "23:18:45.810547\n",
      "23:18:47.813979\n",
      "23:18:47.813979\n"
     ]
    },
    {
     "ename": "TypeError",
     "evalue": "unsupported operand type(s) for -: 'datetime.time' and 'datetime.time'",
     "output_type": "error",
     "traceback": [
      "\u001b[0;31m---------------------------------------------------------------------------\u001b[0m",
      "\u001b[0;31mTypeError\u001b[0m                                 Traceback (most recent call last)",
      "\u001b[0;32m<ipython-input-34-7f476ab57954>\u001b[0m in \u001b[0;36m<module>\u001b[0;34m\u001b[0m\n\u001b[1;32m      8\u001b[0m \u001b[0mprint\u001b[0m\u001b[0;34m(\u001b[0m\u001b[0mt3\u001b[0m\u001b[0;34m)\u001b[0m\u001b[0;34m\u001b[0m\u001b[0;34m\u001b[0m\u001b[0m\n\u001b[1;32m      9\u001b[0m \u001b[0mprint\u001b[0m\u001b[0;34m(\u001b[0m\u001b[0mt2\u001b[0m\u001b[0;34m)\u001b[0m\u001b[0;34m\u001b[0m\u001b[0;34m\u001b[0m\u001b[0m\n\u001b[0;32m---> 10\u001b[0;31m \u001b[0mdiff\u001b[0m \u001b[0;34m=\u001b[0m \u001b[0;34m(\u001b[0m\u001b[0mt2\u001b[0m\u001b[0;34m-\u001b[0m\u001b[0mt3\u001b[0m\u001b[0;34m)\u001b[0m\u001b[0;34m\u001b[0m\u001b[0;34m\u001b[0m\u001b[0m\n\u001b[0m\u001b[1;32m     11\u001b[0m \u001b[0mprint\u001b[0m\u001b[0;34m(\u001b[0m\u001b[0mdiff\u001b[0m\u001b[0;34m.\u001b[0m\u001b[0mseconds\u001b[0m \u001b[0;34m*\u001b[0m \u001b[0;36m1000\u001b[0m\u001b[0;34m)\u001b[0m\u001b[0;34m\u001b[0m\u001b[0;34m\u001b[0m\u001b[0m\n\u001b[1;32m     12\u001b[0m \u001b[0;34m\u001b[0m\u001b[0m\n",
      "\u001b[0;31mTypeError\u001b[0m: unsupported operand type(s) for -: 'datetime.time' and 'datetime.time'"
     ]
    }
   ],
   "source": [
    "import time\n",
    "from datetime import datetime, timedelta\n",
    "t1 = datetime.now().time()\n",
    "print(t1)\n",
    "time.sleep(2)\n",
    "t2 = datetime.now().time()\n",
    "t3 = datetime.strptime(str(t2), \"%H:%M:%S.%f\").time()\n",
    "print(t3)\n",
    "print(t2)\n",
    "diff = (t2-t3)\n",
    "print(diff.seconds * 1000)\n",
    "                        "
   ]
  },
  {
   "cell_type": "code",
   "execution_count": null,
   "metadata": {},
   "outputs": [],
   "source": []
  }
 ],
 "metadata": {
  "kernelspec": {
   "display_name": "Python 3",
   "language": "python",
   "name": "python3"
  },
  "language_info": {
   "codemirror_mode": {
    "name": "ipython",
    "version": 3
   },
   "file_extension": ".py",
   "mimetype": "text/x-python",
   "name": "python",
   "nbconvert_exporter": "python",
   "pygments_lexer": "ipython3",
   "version": "3.8.5"
  }
 },
 "nbformat": 4,
 "nbformat_minor": 4
}
